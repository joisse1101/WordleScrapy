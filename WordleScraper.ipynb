{
  "nbformat": 4,
  "nbformat_minor": 0,
  "metadata": {
    "colab": {
      "name": "WordleScraper.ipynb",
      "provenance": [],
      "collapsed_sections": [],
      "authorship_tag": "ABX9TyMksR/QGtsP1KJrf8rvGYxp",
      "include_colab_link": true
    },
    "kernelspec": {
      "name": "python3",
      "display_name": "Python 3"
    },
    "language_info": {
      "name": "python"
    }
  },
  "cells": [
    {
      "cell_type": "markdown",
      "metadata": {
        "id": "view-in-github",
        "colab_type": "text"
      },
      "source": [
        "<a href=\"https://colab.research.google.com/github/joisse1101/WordleScrapy/blob/main/WordleScraper.ipynb\" target=\"_parent\"><img src=\"https://colab.research.google.com/assets/colab-badge.svg\" alt=\"Open In Colab\"/></a>"
      ]
    },
    {
      "cell_type": "markdown",
      "source": [
        "#Wordle Scraper and Cheat Engine"
      ],
      "metadata": {
        "id": "D5aGH0ncR71C"
      }
    },
    {
      "cell_type": "markdown",
      "source": [
        "#Part 1: Scraping Merriam-Webster for letter counts"
      ],
      "metadata": {
        "id": "l8JGPDPU18XR"
      }
    },
    {
      "cell_type": "code",
      "execution_count": null,
      "metadata": {
        "id": "WQc8akD-P5mj"
      },
      "outputs": [],
      "source": [
        "from bs4 import BeautifulSoup as bsoup\n",
        "from collections import Counter\n",
        "import matplotlib.pyplot as plt\n",
        "import requests\n",
        "import re\n",
        "import seaborn as sns\n",
        "import string"
      ]
    },
    {
      "cell_type": "code",
      "source": [
        "letters = string.ascii_lowercase\n",
        "l_frequency = Counter()\n",
        "wordle = '^[a-z][a-z][a-z][a-z][a-z]$'\n",
        "url = 'https://www.merriam-webster.com/browse/dictionary/'"
      ],
      "metadata": {
        "id": "Xwb52KzWRF52"
      },
      "execution_count": null,
      "outputs": []
    },
    {
      "cell_type": "code",
      "source": [
        "colour_list = ['#4e2f4b','#513552','#553b59','#584161','#5b4768','#5e4d6f','#605476','#635a7d','#666084','#68678b','#6b6d91','#6e7498','#707a9f','#7381a5','#7688ab','#788fb1','#7b95b7','#7e9cbd','#82a3c3',\n",
        "               '#85aac9','#89b1ce','#8db7d4','#91bed9','#95c5de','#9acce3','#9fd3e8']"
      ],
      "metadata": {
        "id": "wOeOCrZio3fz"
      },
      "execution_count": null,
      "outputs": []
    },
    {
      "cell_type": "code",
      "source": [
        "dictionary = {}\n",
        "\n",
        "def add_word(word, i, d):\n",
        "  if i != 4: # not last letter\n",
        "    if word[i] not in d:\n",
        "      d.update({word[i]:{}})\n",
        "    add_word(word, i+1, d[word[i]])\n",
        "  else:\n",
        "    d.update({word[i]:word})"
      ],
      "metadata": {
        "id": "R60ir9oQ54GY"
      },
      "execution_count": null,
      "outputs": []
    },
    {
      "cell_type": "code",
      "source": [
        "for i in letters:\n",
        "  print(f'Searching {i}-s...')\n",
        "  p_num = \"1\"\n",
        "  while len(p_num) > 0:\n",
        "    page = requests.get(url+i+'/'+ p_num)\n",
        "    soup = bsoup(page.content, 'html.parser')\n",
        "    page_entries = soup.find(class_='entries').find_all('a')\n",
        "    for e in page_entries:\n",
        "      if re.match(wordle, e.text):\n",
        "        l_frequency.update(e.text)\n",
        "        add_word(e.text, 0, dictionary)        \n",
        "    p_num = soup.find(class_='next').find('a')['data-page']"
      ],
      "metadata": {
        "colab": {
          "base_uri": "https://localhost:8080/"
        },
        "id": "Nl3JzhaISH1p",
        "outputId": "26f3e0d6-5471-4c9c-e524-5c4ed28066bb"
      },
      "execution_count": null,
      "outputs": [
        {
          "output_type": "stream",
          "name": "stdout",
          "text": [
            "Searching a-s...\n",
            "Searching b-s...\n",
            "Searching c-s...\n",
            "Searching d-s...\n",
            "Searching e-s...\n",
            "Searching f-s...\n",
            "Searching g-s...\n",
            "Searching h-s...\n",
            "Searching i-s...\n",
            "Searching j-s...\n",
            "Searching k-s...\n",
            "Searching l-s...\n",
            "Searching m-s...\n",
            "Searching n-s...\n",
            "Searching o-s...\n",
            "Searching p-s...\n",
            "Searching q-s...\n",
            "Searching r-s...\n",
            "Searching s-s...\n",
            "Searching t-s...\n",
            "Searching u-s...\n",
            "Searching v-s...\n",
            "Searching w-s...\n",
            "Searching x-s...\n",
            "Searching y-s...\n",
            "Searching z-s...\n"
          ]
        }
      ]
    },
    {
      "cell_type": "code",
      "source": [
        "l_freq = list(l_frequency.items())\n",
        "l_freq.sort(key=lambda x:-x[1])\n",
        "total = sum(l_frequency.values())\n",
        "lett = []\n",
        "freq = []\n",
        "for l, f in l_freq:\n",
        "  lett.append(l)\n",
        "  freq.append(f/total)"
      ],
      "metadata": {
        "id": "hIAxNnY-eeoL"
      },
      "execution_count": null,
      "outputs": []
    },
    {
      "cell_type": "code",
      "source": [
        "from google.colab import files\n",
        "import csv\n",
        "import json\n",
        "\n",
        "with open('wordle_dict.json', 'w') as dict_file:\n",
        "  json.dump(dictionary, dict_file)\n",
        "\n",
        "with open('sorted_letters', 'w') as csv_file:\n",
        "  write = csv.writer(csv_file)\n",
        "  write.writerow(lett)\n",
        "  write.writerow(freq)\n",
        "\n",
        "#files.download('wordle_dict.json')\n",
        "#files.download('sorted_letters')"
      ],
      "metadata": {
        "id": "y7kb5NivqHz3"
      },
      "execution_count": null,
      "outputs": []
    },
    {
      "cell_type": "code",
      "source": [
        "fig = plt.figure(figsize=(8,6), dpi=80)\n",
        "ax = fig.add_axes([0,0,1,1])\n",
        "ax.set_title(\"Frequencies of letters in five-letter words\")\n",
        "ax.bar(lett, freq, color=colour_list)\n",
        "sns.set(\n",
        "    rc={\n",
        "        'xtick.bottom':False,\n",
        "        'ytick.left':False}\n",
        ")\n",
        "sns.despine(left=True, bottom=True)"
      ],
      "metadata": {
        "colab": {
          "base_uri": "https://localhost:8080/",
          "height": 547
        },
        "id": "28HhlbsPjw7m",
        "outputId": "8a71c100-3f7a-45e4-a630-8e79d23dece2"
      },
      "execution_count": null,
      "outputs": [
        {
          "output_type": "display_data",
          "data": {
            "image/png": "[encoded data removed]",
            "text/plain": [
              "<Figure size 640x480 with 1 Axes>"
            ]
          },
          "metadata": {
            "needs_background": "light"
          }
        }
      ]
    },
    {
      "cell_type": "markdown",
      "source": [
        "#Part 2: Unscrabbling Wordle clues"
      ],
      "metadata": {
        "id": "_d3gOJ5F2Pwt"
      }
    },
    {
      "cell_type": "code",
      "source": [
        "from google.colab import files\n",
        "import csv\n",
        "import json\n",
        "import re\n",
        "\n",
        "with open(\"wordle_dict.json\", \"r\") as dict_file:\n",
        "  dictionary = json.load(dict_file)\n",
        "\n",
        "with open(\"sorted_letters\", \"r\") as csv_file:\n",
        "  read = csv.reader(csv_file)\n",
        "  letters = next(read)"
      ],
      "metadata": {
        "id": "qBhiRBab17N6"
      },
      "execution_count": null,
      "outputs": []
    },
    {
      "cell_type": "code",
      "source": [
        "def getWordle(clues, anticlues, order, xtra=0):\n",
        "  wordles = []\n",
        "  clues = [x for x in clues if re.match(\"[a-z]\", x)]\n",
        "  anticlues = [x for x in anticlues if re.match(\"[a-z]\", x)]\n",
        "  if len(order) != 5:\n",
        "    order = None\n",
        "  else:\n",
        "    order = [x if re.match(\"[a-z]\", x) else None for x in order]  \n",
        "  \n",
        "  i = 0\n",
        "  if xtra < 0: xtra == 0\n",
        "\n",
        "  extra = []\n",
        "  while len(extra) < (5-len(clues)+xtra):\n",
        "    if i >= len(letters):\n",
        "      break\n",
        "    if (letters[i] not in clues) and (letters[i] not in anticlues):\n",
        "      extra.append(letters[i])\n",
        "    i += 1\n",
        "\n",
        "  def searchDict(clues, d):\n",
        "    nonlocal wordles\n",
        "    for i, c in enumerate(clues):\n",
        "      if c in d:\n",
        "        if type(d[c]) == str:\n",
        "          if order == None:\n",
        "            wordles.append(d[c])\n",
        "          else:\n",
        "            if checkWordle(d[c]):\n",
        "              wordles.append(d[c])\n",
        "        else:\n",
        "          searchDict(clues[:i]+clues[i+1:], d[c])\n",
        "\n",
        "  def checkWordle(word):\n",
        "    for i in range(len(word)):\n",
        "      if order[i] == None:\n",
        "        continue\n",
        "      elif order[i] != word[i]:\n",
        "        return False\n",
        "    return True\n",
        "  \n",
        "  window = 5-len(clues)\n",
        "  for i in range(len(extra)-window+1):\n",
        "    if i + window < len(extra):\n",
        "      searchDict(clues+extra[i:i+window],dictionary)\n",
        "    else:\n",
        "      searchDict(clues+extra[i:],dictionary)\n",
        "  print(wordles)"
      ],
      "metadata": {
        "id": "gF4eaX1SQpaV"
      },
      "execution_count": null,
      "outputs": []
    },
    {
      "cell_type": "code",
      "source": [
        "clues = ''\n",
        "anticlues = ''\n",
        "order = ''\n",
        "getWordle(clues, anticlues, order)"
      ],
      "metadata": {
        "colab": {
          "base_uri": "https://localhost:8080/"
        },
        "id": "zxx3oICetiXe",
        "outputId": "d6706109-24de-455a-946f-c734b1371ff7"
      },
      "execution_count": null,
      "outputs": [
        {
          "output_type": "stream",
          "name": "stdout",
          "text": [
            "['arose']\n"
          ]
        }
      ]
    }
  ]
}